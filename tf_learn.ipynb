{
 "cells": [
  {
   "cell_type": "markdown",
   "metadata": {},
   "source": [
    "### Dependencies"
   ]
  },
  {
   "cell_type": "code",
   "execution_count": 10,
   "metadata": {},
   "outputs": [],
   "source": [
    "import tensorflow as tf\n",
    "import numpy as np"
   ]
  },
  {
   "cell_type": "markdown",
   "metadata": {},
   "source": [
    "### Utils"
   ]
  },
  {
   "cell_type": "code",
   "execution_count": 6,
   "metadata": {},
   "outputs": [],
   "source": [
    "def run(operation):\n",
    "    with tf.Session() as session: \n",
    "        return session.run(operation)\n",
    "    \n",
    "def print_run(operation):\n",
    "    result = run(operation)\n",
    "    print(result)"
   ]
  },
  {
   "cell_type": "markdown",
   "metadata": {},
   "source": [
    "### Constants"
   ]
  },
  {
   "cell_type": "code",
   "execution_count": 7,
   "metadata": {},
   "outputs": [
    {
     "name": "stdout",
     "output_type": "stream",
     "text": [
      "b'Tensorflow version: 1.12.0'\n",
      "[[1 2]\n",
      " [3 4]]\n",
      "[[3]\n",
      " [7]]\n",
      "<bound method Tensor.get_shape of <tf.Tensor 'Const_2:0' shape=(2, 2) dtype=int32>>\n"
     ]
    }
   ],
   "source": [
    "description = tf.constant('Tensorflow version: ')\n",
    "version = tf.constant(tf.__version__)\n",
    "print_run(description + version)\n",
    "\n",
    "m1 = tf.constant([[1, 2], \n",
    "                  [3, 4]])\n",
    "\n",
    "m2 = tf.constant([[1], \n",
    "                  [1]])\n",
    "\n",
    "print_run(m1 * m2)\n",
    "print_run(tf.matmul(m1, m2))\n",
    "\n",
    "print(m1.get_shape)"
   ]
  },
  {
   "cell_type": "markdown",
   "metadata": {},
   "source": [
    "### Variables"
   ]
  },
  {
   "cell_type": "code",
   "execution_count": 8,
   "metadata": {},
   "outputs": [
    {
     "name": "stdout",
     "output_type": "stream",
     "text": [
      "[[1 2]\n",
      " [3 4]]\n",
      "\n",
      "\n",
      "[[1]\n",
      " [2]]\n",
      "\n",
      "\n",
      "[[2. 3.]\n",
      " [5. 6.]]\n",
      "\n",
      "\n",
      "[[1. 2.]\n",
      " [6. 8.]]\n"
     ]
    }
   ],
   "source": [
    "data = np.array([[1, 2], \n",
    "                  [3, 4]])\n",
    "\n",
    "weights = np.array([[1], [2]])\n",
    "\n",
    "print(data)\n",
    "print('\\n')\n",
    "print(weights)\n",
    "\n",
    "a = tf.placeholder(tf.float32)\n",
    "b = tf.placeholder(tf.float32)\n",
    "add_operation = a + b \n",
    "multiply_operation = a * b\n",
    "\n",
    "with tf.Session() as sess:\n",
    "    add_result = sess.run(add_operation,\n",
    "                          feed_dict= {a:data, b:weights})\n",
    "    \n",
    "    mult_result = sess.run(multiply_operation,\n",
    "                           feed_dict= {a:data, b:weights})\n",
    "    print('\\n')\n",
    "    print(add_result)\n",
    "    print('\\n')    \n",
    "    print(mult_result)\n"
   ]
  },
  {
   "cell_type": "code",
   "execution_count": null,
   "metadata": {},
   "outputs": [],
   "source": []
  }
 ],
 "metadata": {
  "kernelspec": {
   "display_name": "Python 3",
   "language": "python",
   "name": "python3"
  },
  "language_info": {
   "codemirror_mode": {
    "name": "ipython",
    "version": 3
   },
   "file_extension": ".py",
   "mimetype": "text/x-python",
   "name": "python",
   "nbconvert_exporter": "python",
   "pygments_lexer": "ipython3",
   "version": "3.9.0"
  }
 },
 "nbformat": 4,
 "nbformat_minor": 4
}
